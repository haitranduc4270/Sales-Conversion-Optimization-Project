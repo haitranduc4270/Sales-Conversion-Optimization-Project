{
 "cells": [
  {
   "cell_type": "code",
   "execution_count": 1,
   "metadata": {},
   "outputs": [],
   "source": [
    "# import pandas as pd\n",
    "# df = pd.read_csv('../data/raw/KAG_conversion_data.csv')"
   ]
  },
  {
   "cell_type": "code",
   "execution_count": 3,
   "metadata": {},
   "outputs": [
    {
     "data": {
      "text/plain": [
       "Index(['ad_id', 'xyz_campaign_id', 'fb_campaign_id', 'age', 'gender',\n",
       "       'interest', 'Impressions', 'Clicks', 'Spent', 'Total_Conversion',\n",
       "       'Approved_Conversion'],\n",
       "      dtype='object')"
      ]
     },
     "execution_count": 3,
     "metadata": {},
     "output_type": "execute_result"
    }
   ],
   "source": [
    "from pyspark.sql import SparkSession\n",
    "\n",
    "# Tạo SparkSession và kết nối với Hive\n",
    "spark = SparkSession.builder \\\n",
    "    .appName(\"PySpark with Hive\") \\\n",
    "    .config(\"spark.sql.catalogImplementation\", \"hive\") \\\n",
    "    .config(\"hive.metastore.uris\", \"thrift://hive-metastore:9083\") \\\n",
    "    .enableHiveSupport() \\\n",
    "    .getOrCreate()\n",
    "\n",
    "# Kiểm tra kết nối Hive\n",
    "spark.sql(\"SHOW DATABASES\").show()\n",
    "\n",
    "# Truy vấn Hive\n",
    "spark.sql(\"USE default\")\n",
    "spark.sql(\"SHOW TABLES\").show()\n"
   ]
  },
  {
   "cell_type": "code",
   "execution_count": null,
   "metadata": {},
   "outputs": [],
   "source": [
    "# Dữ liệu mẫu\n",
    "data = [\n",
    "    (\"1\", \"Campaign A\", \"Facebook\", 18, \"Male\", \"Technology\", 1000, 50, 500.0, 10, 8),\n",
    "    (\"2\", \"Campaign B\", \"Facebook\", 25, \"Female\", \"Travel\", 2000, 100, 1200.0, 20, 18)\n",
    "]\n",
    "\n",
    "columns = ['ad_id', 'xyz_campaign_id', 'fb_campaign_id', 'age', 'gender',\n",
    "           'interest', 'Impressions', 'Clicks', 'Spent', 'Total_Conversion',\n",
    "           'Approved_Conversion']\n",
    "\n",
    "df = spark.createDataFrame(data, columns)\n",
    "\n",
    "# Ghi vào bảng Hive\n",
    "df.write.mode(\"overwrite\").saveAsTable(\"default.fact_campaign_performance\")\n"
   ]
  },
  {
   "cell_type": "code",
   "execution_count": null,
   "metadata": {},
   "outputs": [],
   "source": [
    "spark.sql(\"SELECT * FROM default.fact_campaign_performance\").show()\n"
   ]
  }
 ],
 "metadata": {
  "kernelspec": {
   "display_name": "Python 3 (ipykernel)",
   "language": "python",
   "name": "python3"
  },
  "language_info": {
   "codemirror_mode": {
    "name": "ipython",
    "version": 3
   },
   "file_extension": ".py",
   "mimetype": "text/x-python",
   "name": "python",
   "nbconvert_exporter": "python",
   "pygments_lexer": "ipython3",
   "version": "3.11.6"
  }
 },
 "nbformat": 4,
 "nbformat_minor": 4
}
